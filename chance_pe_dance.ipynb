{
  "cells": [
    {
      "cell_type": "code",
      "execution_count": null,
      "metadata": {
        "id": "ec857783",
        "language": "python"
      },
      "outputs": [
        {
          "ename": "",
          "evalue": "",
          "output_type": "error",
          "traceback": [
            "\u001b[1;31mRunning cells with 'Python 3.12.3' requires the ipykernel package.\n",
            "\u001b[1;31m<a href='command:jupyter.createPythonEnvAndSelectController'>Create a Python Environment</a> with the required packages.\n",
            "\u001b[1;31mOr install 'ipykernel' using the command: '/bin/python3 -m pip install ipykernel -U --user --force-reinstall'"
          ]
        }
      ],
      "source": [
        "import talib as ta\n",
        "import pandas as pd\n",
        "import numpy as np\n",
        "from enum import Enum\n",
        "import matplotlib.pyplot as plt\n",
        "import seaborn as sns\n",
        "\n",
        "# Import untrade SDK for backtesting\n",
        "try:\n",
        "    from untrade.client import Client\n",
        "    client = Client()\n",
        "    print(\"untrade SDK imported successfully\")\n",
        "except Exception as e:\n",
        "    print(f\"Error importing untrade SDK: {e}\")"
      ]
    },
    {
      "cell_type": "code",
      "execution_count": null,
      "metadata": {
        "id": "00ade60e",
        "language": "python"
      },
      "outputs": [],
      "source": [
        "class TradeType(Enum):\n",
        "    \"\"\"\n",
        "    Enumeration defining the different types of trading actions.\n",
        "    \n",
        "    Attributes:\n",
        "        LONG: Enter a long position\n",
        "        SHORT: Enter a short position\n",
        "        REVERSE_LONG: Exit a short position and enter a long position\n",
        "        REVERSE_SHORT: Exit a long position and enter a short position\n",
        "        CLOSE: Close any open position\n",
        "        HOLD: Maintain current position (no action)\n",
        "    \"\"\"\n",
        "    LONG = \"LONG\"\n",
        "    SHORT = \"SHORT\"\n",
        "    REVERSE_LONG = \"REVERSE_LONG\"\n",
        "    REVERSE_SHORT = \"REVERSE_SHORT\"\n",
        "    CLOSE = \"CLOSE\"\n",
        "    HOLD = \"HOLD\""
      ]
    },
    {
      "cell_type": "markdown",
      "metadata": {
        "language": "markdown"
      },
      "source": [
        "## untrade SDK Integration\n",
        "\n",
        "Let's integrate the untrade SDK to run backtests with our advanced trading strategy."
      ]
    },
    {
      "cell_type": "code",
      "execution_count": null,
      "metadata": {
        "language": "python"
      },
      "outputs": [],
      "source": [
        "def prepare_data_for_sdk(file_path):\n",
        "    \"\"\"Load and prepare data for use with the untrade SDK\"\"\"\n",
        "    try:\n",
        "        if file_path.endswith('.csv'):\n",
        "            df = pd.read_csv(file_path)\n",
        "        else:\n",
        "            print(f\"Unsupported file format: {file_path}\")\n",
        "            return None\n",
        "        \n",
        "        # Ensure we have required columns\n",
        "        required_cols = ['datetime', 'open', 'high', 'low', 'close', 'volume']\n",
        "        column_map = {\n",
        "            'date': 'datetime', 'time': 'datetime', 'timestamp': 'datetime',\n",
        "            'Date': 'datetime', 'Time': 'datetime', 'Timestamp': 'datetime',\n",
        "            'Open': 'open', 'High': 'high', 'Low': 'low', 'Close': 'close', 'Volume': 'volume'\n",
        "        }\n",
        "        \n",
        "        # Rename columns if needed\n",
        "        df = df.rename(columns={col: column_map[col] for col in df.columns if col in column_map})\n",
        "        \n",
        "        # Check if we still have missing columns\n",
        "        missing = [col for col in required_cols if col not in df.columns]\n",
        "        if missing:\n",
        "            print(f\"Missing required columns: {missing}\")\n",
        "            return None\n",
        "        \n",
        "        # Convert datetime\n",
        "        df['datetime'] = pd.to_datetime(df['datetime'])\n",
        "        \n",
        "        # Sort by datetime\n",
        "        df = df.sort_values('datetime')\n",
        "        \n",
        "        # Convert price/volume columns to numeric\n",
        "        for col in ['open', 'high', 'low', 'close', 'volume']:\n",
        "            df[col] = pd.to_numeric(df[col], errors='coerce')\n",
        "            \n",
        "        # Drop rows with NaN values in critical columns\n",
        "        df = df.dropna(subset=['open', 'high', 'low', 'close'])\n",
        "        \n",
        "        return df\n",
        "        \n",
        "    except Exception as e:\n",
        "        print(f\"Error preparing data: {e}\")\n",
        "        return None"
      ]
    },
    {
      "cell_type": "code",
      "execution_count": null,
      "metadata": {
        "language": "python"
      },
      "outputs": [],
      "source": [
        "def run_backtest_with_sdk(strategy, data_path, jupyter_id=\"test\", initial_equity=10000):\n",
        "    \"\"\"Run a backtest using the untrade SDK\"\"\"\n",
        "    # Load and prepare data\n",
        "    df = prepare_data_for_sdk(data_path)\n",
        "    if df is None:\n",
        "        print(\"Failed to prepare data for backtesting\")\n",
        "        return None\n",
        "    \n",
        "    # Run strategy\n",
        "    result_df = strategy.run(df, equity=initial_equity)\n",
        "    \n",
        "    # Convert signals for untrade SDK\n",
        "    # untrade SDK expects: 1 for buy, -1 for sell, 0 for close/hold\n",
        "    signal_map = {\n",
        "        TradeType.LONG.value: 1,\n",
        "        TradeType.SHORT.value: -1,\n",
        "        TradeType.REVERSE_LONG.value: 1,  # Buy after closing short\n",
        "        TradeType.REVERSE_SHORT.value: -1,  # Sell after closing long\n",
        "        TradeType.CLOSE.value: 0,\n",
        "        TradeType.HOLD.value: 0\n",
        "    }\n",
        "    \n",
        "    # Create signals column\n",
        "    result_df['signals'] = result_df['trade_type'].map(signal_map)\n",
        "    \n",
        "    # Save to CSV for untrade SDK\n",
        "    output_path = \"strategy_signals.csv\"\n",
        "    result_df[['datetime', 'open', 'high', 'low', 'close', 'volume', 'signals']].to_csv(\n",
        "        output_path, index=False\n",
        "    )\n",
        "    \n",
        "    # Run backtest with untrade SDK\n",
        "    try:\n",
        "        backtest_result = client.backtest(\n",
        "            jupyter_id=jupyter_id,\n",
        "            file_path=output_path,\n",
        "            leverage=1\n",
        "        )\n",
        "        \n",
        "        # Display summary\n",
        "        print(\"Backtest completed successfully.\")\n",
        "        print(f\"Total signals: {len(result_df[result_df['signals'] != 0])}\")\n",
        "        print(f\"Buy signals: {len(result_df[result_df['signals'] == 1])}\")\n",
        "        print(f\"Sell signals: {len(result_df[result_df['signals'] == -1])}\")\n",
        "        \n",
        "        return backtest_result, result_df\n",
        "        \n",
        "    except Exception as e:\n",
        "        print(f\"Error running backtest with untrade SDK: {e}\")\n",
        "        return None"
      ]
    },
    {
      "cell_type": "code",
      "execution_count": null,
      "metadata": {
        "language": "python"
      },
      "outputs": [],
      "source": [
        "def display_backtest_metrics(backtest_result):\n",
        "    \"\"\"Display key metrics from untrade SDK backtest results\"\"\"\n",
        "    if not backtest_result:\n",
        "        print(\"No backtest results to display\")\n",
        "        return\n",
        "        \n",
        "    # Get the final result object\n",
        "    result_list = list(backtest_result)\n",
        "    if not result_list:\n",
        "        print(\"Empty backtest results\")\n",
        "        return\n",
        "        \n",
        "    final_result = result_list[-1]\n",
        "    \n",
        "    # Extract metrics\n",
        "    metrics = [\n",
        "        ('Total Return (%)', final_result.get('total_return', 0) * 100),\n",
        "        ('Annual Return (%)', final_result.get('annual_return', 0) * 100),\n",
        "        ('Max Drawdown (%)', final_result.get('max_drawdown', 0) * 100),\n",
        "        ('Sharpe Ratio', final_result.get('sharpe_ratio', 0)),\n",
        "        ('Win Rate (%)', final_result.get('win_rate', 0) * 100),\n",
        "        ('Profit Factor', final_result.get('profit_factor', 0)),\n",
        "        ('Avg Win (%)', final_result.get('avg_win', 0) * 100),\n",
        "        ('Avg Loss (%)', final_result.get('avg_loss', 0) * 100),\n",
        "        ('# of Trades', final_result.get('total_trades', 0))\n",
        "    ]\n",
        "    \n",
        "    # Print metrics in a formatted table\n",
        "    print(\"\\n===== Backtest Performance =====\\n\")\n",
        "    for name, value in metrics:\n",
        "        print(f\"{name:<20}: {value:>10.2f}\")"
      ]
    },
    {
      "cell_type": "code",
      "execution_count": null,
      "metadata": {
        "language": "python"
      },
      "outputs": [],
      "source": [
        "# Example: Run a complete backtest with the strategy and untrade SDK\n",
        "\n",
        "# Initialize strategy with custom parameters\n",
        "strategy = Strategy(\n",
        "    rsi_period=10,\n",
        "    atr_multiplier=2.5,\n",
        "    risk_pct=0.75,\n",
        "    ema_fast=10,\n",
        "    ema_medium=25,\n",
        "    ema_slow=50\n",
        ")\n",
        "\n",
        "# Set your data path and untrade jupyter ID\n",
        "DATA_PATH = \"your_data.csv\"  # Replace with your data file path\n",
        "JUPYTER_ID = \"test\"         # Replace with your untrade jupyter ID\n",
        "\n",
        "# Run backtest (comment out if not ready to execute)\n",
        "# backtest_result, result_df = run_backtest_with_sdk(strategy, DATA_PATH, JUPYTER_ID)\n",
        "# if backtest_result:\n",
        "#     display_backtest_metrics(backtest_result)"
      ]
    },
    {
      "cell_type": "markdown",
      "metadata": {
        "language": "markdown"
      },
      "source": [
        "## Visualization\n",
        "\n",
        "Let's create some visualizations to analyze the strategy performance."
      ]
    },
    {
      "cell_type": "code",
      "execution_count": null,
      "metadata": {
        "language": "python"
      },
      "outputs": [],
      "source": [
        "def visualize_strategy_performance(result_df, backtest_result=None):\n",
        "    \"\"\"Create visualizations of strategy performance\"\"\"\n",
        "    plt.figure(figsize=(14, 8))\n",
        "    \n",
        "    # Plot price with signals\n",
        "    plt.subplot(2, 1, 1)\n",
        "    plt.plot(result_df['datetime'], result_df['close'], label='Price', color='gray', alpha=0.7)\n",
        "    \n",
        "    # Plot buy signals\n",
        "    buy_signals = result_df[result_df['signals'] == 1]\n",
        "    if not buy_signals.empty:\n",
        "        plt.scatter(buy_signals['datetime'], buy_signals['close'], \n",
        "                    color='green', marker='^', s=100, label='Buy')\n",
        "    \n",
        "    # Plot sell signals\n",
        "    sell_signals = result_df[result_df['signals'] == -1]\n",
        "    if not sell_signals.empty:\n",
        "        plt.scatter(sell_signals['datetime'], sell_signals['close'], \n",
        "                    color='red', marker='v', s=100, label='Sell')\n",
        "    \n",
        "    plt.title('Price Chart with Trading Signals')\n",
        "    plt.ylabel('Price')\n",
        "    plt.grid(True, alpha=0.3)\n",
        "    plt.legend()\n",
        "    \n",
        "    # Plot equity curve if available from backtest result\n",
        "    if backtest_result:\n",
        "        result_list = list(backtest_result)\n",
        "        if result_list and 'equity_curve' in result_list[-1]:\n",
        "            equity_data = pd.DataFrame(result_list[-1]['equity_curve'])\n",
        "            equity_data['date'] = pd.to_datetime(equity_data['date'])\n",
        "            \n",
        "            plt.subplot(2, 1, 2)\n",
        "            plt.plot(equity_data['date'], equity_data['equity'], label='Portfolio Value', color='blue')\n",
        "            plt.title('Equity Curve')\n",
        "            plt.ylabel('Value')\n",
        "            plt.grid(True, alpha=0.3)\n",
        "    \n",
        "    plt.tight_layout()\n",
        "    plt.show()"
      ]
    }
  ],
  "metadata": {
    "kernelspec": {
      "display_name": "Python 3",
      "language": "python",
      "name": "python3"
    },
    "language_info": {
      "name": "python",
      "version": "3.12.3"
    }
  },
  "nbformat": 4,
  "nbformat_minor": 5
}
